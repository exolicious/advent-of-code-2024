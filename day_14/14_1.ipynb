{
 "cells": [
  {
   "cell_type": "code",
   "execution_count": 311,
   "metadata": {},
   "outputs": [],
   "source": [
    "import numpy as np\n",
    "X_DIMENSION = 11\n",
    "Y_DIMENSION = 7\n",
    "T = 100"
   ]
  },
  {
   "cell_type": "code",
   "execution_count": 312,
   "metadata": {},
   "outputs": [],
   "source": [
    "input = \"\"\"p=0,4 v=3,-3\n",
    "p=6,3 v=-1,-3\n",
    "p=10,3 v=-1,2\n",
    "p=2,0 v=2,-1\n",
    "p=0,0 v=1,3\n",
    "p=3,0 v=-2,-2\n",
    "p=7,6 v=-1,-3\n",
    "p=3,0 v=-1,-2\n",
    "p=9,3 v=2,3\n",
    "p=7,3 v=-1,2\n",
    "p=2,4 v=2,-3\n",
    "p=9,5 v=-3,-3\"\"\""
   ]
  },
  {
   "cell_type": "code",
   "execution_count": 313,
   "metadata": {},
   "outputs": [
    {
     "name": "stdout",
     "output_type": "stream",
     "text": [
      "(11, 7)\n"
     ]
    }
   ],
   "source": [
    "from numpy import zeros\n",
    "\n",
    "\n",
    "total_map = zeros((X_DIMENSION, Y_DIMENSION))\n",
    "print(total_map.shape)"
   ]
  },
  {
   "cell_type": "code",
   "execution_count": 314,
   "metadata": {},
   "outputs": [
    {
     "name": "stdout",
     "output_type": "stream",
     "text": [
      "Initial map:\n",
      "[[1. 0. 1. 2. 0. 0. 0. 0. 0. 0. 0.]\n",
      " [0. 0. 0. 0. 0. 0. 0. 0. 0. 0. 0.]\n",
      " [0. 0. 0. 0. 0. 0. 0. 0. 0. 0. 0.]\n",
      " [0. 0. 0. 0. 0. 0. 1. 1. 0. 1. 1.]\n",
      " [1. 0. 1. 0. 0. 0. 0. 0. 0. 0. 0.]\n",
      " [0. 0. 0. 0. 0. 0. 0. 0. 0. 1. 0.]\n",
      " [0. 0. 0. 0. 0. 0. 0. 1. 0. 0. 0.]]\n",
      "\n",
      "\n",
      "Map after 100 seconds:\n",
      "[[0. 0. 0. 0. 0. 0. 2. 0. 0. 1. 0.]\n",
      " [0. 0. 0. 0. 0. 0. 0. 0. 0. 0. 0.]\n",
      " [1. 0. 0. 0. 0. 0. 0. 0. 0. 0. 0.]\n",
      " [0. 1. 1. 0. 0. 0. 0. 0. 0. 0. 0.]\n",
      " [0. 0. 0. 0. 0. 1. 0. 0. 0. 0. 0.]\n",
      " [0. 0. 0. 1. 2. 0. 0. 0. 0. 0. 0.]\n",
      " [0. 1. 0. 0. 0. 0. 1. 0. 0. 0. 0.]]\n",
      "4\n",
      "6\n",
      "[[0. 0. 0. 0. 0.]\n",
      " [0. 0. 0. 1. 2.]\n",
      " [0. 1. 0. 0. 0.]]\n",
      "[[0. 0. 0. 0. 0.]\n",
      " [0. 0. 0. 0. 0.]\n",
      " [1. 0. 0. 0. 0.]]\n"
     ]
    }
   ],
   "source": [
    "def parse_position_velocity(input):\n",
    "    parsed_data = []\n",
    "    \n",
    "    lines = input.split('\\n')\n",
    "    \n",
    "    for line in lines:\n",
    "        if not line.strip():\n",
    "            continue\n",
    "        \n",
    "        p_part, v_part = line.split(' v=')\n",
    "        \n",
    "        pos_x, pos_y = map(int, p_part.replace('p=', '').split(','))\n",
    "        initial_position = np.array([pos_x, pos_y])\n",
    "        \n",
    "        vel_x, vel_y = map(int, v_part.split(','))\n",
    "        velocity = np.array([vel_x, vel_y])\n",
    "        \n",
    "        parsed_data.append([initial_position, velocity])\n",
    "    \n",
    "    return np.array(parsed_data, dtype=object)\n",
    "\n",
    "robot_data = parse_position_velocity(input)\n",
    "\n",
    "initial_map = zeros((X_DIMENSION, Y_DIMENSION))\n",
    "for robot_initial_position, _ in robot_data:\n",
    "    initial_map[robot_initial_position[0]][robot_initial_position[1]] += 1\n",
    "print(\"Initial map:\")\n",
    "print(initial_map.transpose())\n",
    "print(\"\\n\")\n",
    "\n",
    "for robot_initial_position, robot_velocity in robot_data:\n",
    "    resulting_x_position = (robot_initial_position[0] + robot_velocity[0] * T) % X_DIMENSION\n",
    "    resulting_y_position = (robot_initial_position[1] + robot_velocity[1] * T) % Y_DIMENSION\n",
    "    total_map[resulting_x_position][resulting_y_position] += 1\n",
    "resulting_map_transposed = total_map.transpose()\n",
    "print(f\"Map after {T} seconds:\")\n",
    "print(resulting_map_transposed)\n",
    "\n",
    "y_dimension_center = int(np.ceil(Y_DIMENSION/2))\n",
    "x_dimension_center = int(np.ceil(X_DIMENSION/2))\n",
    "print(y_dimension_center)\n",
    "print(x_dimension_center)\n",
    "quadrant_1 = resulting_map_transposed[:y_dimension_center-1, x_dimension_center:X_DIMENSION]\n",
    "quadrant_2 = resulting_map_transposed[:y_dimension_center-1, :x_dimension_center-1]\n",
    "quadrant_3 = resulting_map_transposed[y_dimension_center:Y_DIMENSION, :x_dimension_center-1]\n",
    "quadrant_4 = resulting_map_transposed[y_dimension_center:Y_DIMENSION, x_dimension_center:X_DIMENSION]\n",
    "\n",
    "\n"
   ]
  }
 ],
 "metadata": {
  "kernelspec": {
   "display_name": "base",
   "language": "python",
   "name": "python3"
  },
  "language_info": {
   "codemirror_mode": {
    "name": "ipython",
    "version": 3
   },
   "file_extension": ".py",
   "mimetype": "text/x-python",
   "name": "python",
   "nbconvert_exporter": "python",
   "pygments_lexer": "ipython3",
   "version": "3.12.7"
  }
 },
 "nbformat": 4,
 "nbformat_minor": 2
}
